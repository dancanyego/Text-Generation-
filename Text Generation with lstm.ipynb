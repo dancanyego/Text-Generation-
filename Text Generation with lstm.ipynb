{
 "cells": [
  {
   "cell_type": "code",
   "execution_count": 1,
   "id": "6fd941f8",
   "metadata": {},
   "outputs": [],
   "source": [
    "def read_file(filepath):\n",
    "    \n",
    "    with open (filepath) as f:\n",
    "        str_text = f.read()\n",
    "    \n",
    "    return str_text\n",
    "    "
   ]
  },
  {
   "cell_type": "code",
   "execution_count": 2,
   "id": "8ac7971f",
   "metadata": {},
   "outputs": [],
   "source": [
    "#read_file('moby_dick_four_chapters.txt')"
   ]
  },
  {
   "cell_type": "code",
   "execution_count": 3,
   "id": "d22e54f1",
   "metadata": {},
   "outputs": [],
   "source": [
    "import spacy"
   ]
  },
  {
   "cell_type": "code",
   "execution_count": 4,
   "id": "06a640ba",
   "metadata": {},
   "outputs": [],
   "source": [
    "nlp = spacy.load('en_core_web_lg',disable=['parser', 'tagger','ner']) # Disabling so as it processes much faster"
   ]
  },
  {
   "cell_type": "code",
   "execution_count": 5,
   "id": "193ea6c4",
   "metadata": {},
   "outputs": [],
   "source": [
    "nlp.max_length = 1198623"
   ]
  },
  {
   "cell_type": "code",
   "execution_count": 6,
   "id": "d36aaffc",
   "metadata": {},
   "outputs": [],
   "source": [
    "def separate_punc(doc_text):\n",
    "    return [token.text.lower() for token in nlp(doc_text) if token.text not in '\\n\\n \\n\\n\\n!\"-#$%&()--.*+,-/:;<=>?@[\\\\]^_`{|}~\\t\\n ']"
   ]
  },
  {
   "cell_type": "code",
   "execution_count": 7,
   "id": "1528f110",
   "metadata": {},
   "outputs": [],
   "source": [
    "d = read_file('moby_dick_four_chapters.txt')"
   ]
  },
  {
   "cell_type": "code",
   "execution_count": 8,
   "id": "156e232d",
   "metadata": {},
   "outputs": [
    {
     "name": "stderr",
     "output_type": "stream",
     "text": [
      "D:\\anaconda\\envs\\dataenv\\lib\\site-packages\\spacy\\pipeline\\lemmatizer.py:211: UserWarning: [W108] The rule-based lemmatizer did not find POS annotation for one or more tokens. Check that your pipeline includes components that assign token.pos, typically 'tagger'+'attribute_ruler' or 'morphologizer'.\n",
      "  warnings.warn(Warnings.W108)\n"
     ]
    }
   ],
   "source": [
    "tokens = separate_punc(d)"
   ]
  },
  {
   "cell_type": "code",
   "execution_count": 11,
   "id": "200bff68",
   "metadata": {},
   "outputs": [
    {
     "data": {
      "text/plain": [
       "11338"
      ]
     },
     "execution_count": 11,
     "metadata": {},
     "output_type": "execute_result"
    }
   ],
   "source": [
    "len(tokens)"
   ]
  },
  {
   "cell_type": "code",
   "execution_count": 12,
   "id": "02d045a9",
   "metadata": {},
   "outputs": [],
   "source": [
    "# we will pass 25 words and let neural net predict 26th word "
   ]
  },
  {
   "cell_type": "code",
   "execution_count": 14,
   "id": "5f153a8a",
   "metadata": {},
   "outputs": [],
   "source": [
    "train_len = 25 + 1\n",
    "text_sequences = []\n",
    "\n",
    "for i in range(train_len,len(tokens)):\n",
    "    seq = tokens[i-train_len:i]\n",
    "    \n",
    "    text_sequences.append(seq)"
   ]
  },
  {
   "cell_type": "code",
   "execution_count": 17,
   "id": "d7efca08",
   "metadata": {},
   "outputs": [
    {
     "data": {
      "text/plain": [
       "'call me ishmael some years ago never mind how long precisely having little or no money in my purse and nothing particular to interest me on'"
      ]
     },
     "execution_count": 17,
     "metadata": {},
     "output_type": "execute_result"
    }
   ],
   "source": [
    "' '.join(text_sequences[0])"
   ]
  },
  {
   "cell_type": "code",
   "execution_count": 18,
   "id": "5d5cbba1",
   "metadata": {},
   "outputs": [
    {
     "data": {
      "text/plain": [
       "'me ishmael some years ago never mind how long precisely having little or no money in my purse and nothing particular to interest me on shore'"
      ]
     },
     "execution_count": 18,
     "metadata": {},
     "output_type": "execute_result"
    }
   ],
   "source": [
    "' '.join(text_sequences[1])"
   ]
  },
  {
   "cell_type": "code",
   "execution_count": 19,
   "id": "6af41c4a",
   "metadata": {},
   "outputs": [],
   "source": [
    "from keras.preprocessing.text import Tokenizer"
   ]
  },
  {
   "cell_type": "code",
   "execution_count": 20,
   "id": "f5c39270",
   "metadata": {},
   "outputs": [],
   "source": [
    "tokenizer = Tokenizer()"
   ]
  },
  {
   "cell_type": "code",
   "execution_count": 21,
   "id": "4ec52588",
   "metadata": {},
   "outputs": [],
   "source": [
    "tokenizer.fit_on_texts(text_sequences)"
   ]
  },
  {
   "cell_type": "code",
   "execution_count": 22,
   "id": "bfca1091",
   "metadata": {},
   "outputs": [],
   "source": [
    "sequences = tokenizer.texts_to_sequences(text_sequences)"
   ]
  },
  {
   "cell_type": "code",
   "execution_count": 24,
   "id": "57436257",
   "metadata": {},
   "outputs": [
    {
     "name": "stdout",
     "output_type": "stream",
     "text": [
      "956 :> call\n",
      "14 :> me\n",
      "263 :> ishmael\n",
      "51 :> some\n",
      "261 :> years\n",
      "408 :> ago\n",
      "87 :> never\n",
      "219 :> mind\n",
      "129 :> how\n",
      "111 :> long\n",
      "954 :> precisely\n",
      "260 :> having\n",
      "50 :> little\n",
      "43 :> or\n",
      "38 :> no\n",
      "314 :> money\n",
      "7 :> in\n",
      "23 :> my\n",
      "546 :> purse\n",
      "3 :> and\n",
      "150 :> nothing\n",
      "259 :> particular\n",
      "6 :> to\n",
      "2713 :> interest\n",
      "14 :> me\n",
      "24 :> on\n"
     ]
    }
   ],
   "source": [
    "for i in sequences[0]:\n",
    "    print(f\"{i} :> {tokenizer.index_word[i]}\")"
   ]
  },
  {
   "cell_type": "code",
   "execution_count": 25,
   "id": "53f1dcf7",
   "metadata": {},
   "outputs": [
    {
     "data": {
      "text/plain": [
       "2718"
      ]
     },
     "execution_count": 25,
     "metadata": {},
     "output_type": "execute_result"
    }
   ],
   "source": [
    "len(tokenizer.word_counts)"
   ]
  },
  {
   "cell_type": "code",
   "execution_count": 26,
   "id": "e1acd829",
   "metadata": {},
   "outputs": [],
   "source": [
    "import numpy as np"
   ]
  },
  {
   "cell_type": "code",
   "execution_count": 27,
   "id": "b99255aa",
   "metadata": {},
   "outputs": [],
   "source": [
    "sequences = np.array(sequences)"
   ]
  },
  {
   "cell_type": "code",
   "execution_count": 28,
   "id": "603c8d1e",
   "metadata": {},
   "outputs": [
    {
     "data": {
      "text/plain": [
       "array([[ 956,   14,  263, ..., 2713,   14,   24],\n",
       "       [  14,  263,   51, ...,   14,   24,  957],\n",
       "       [ 263,   51,  261, ...,   24,  957,    5],\n",
       "       ...,\n",
       "       [ 952,   12,  166, ...,  262,   53,    2],\n",
       "       [  12,  166, 2712, ...,   53,    2, 2718],\n",
       "       [ 166, 2712,    3, ...,    2, 2718,   26]])"
      ]
     },
     "execution_count": 28,
     "metadata": {},
     "output_type": "execute_result"
    }
   ],
   "source": [
    "sequences"
   ]
  },
  {
   "cell_type": "code",
   "execution_count": 33,
   "id": "9cb65a2d",
   "metadata": {},
   "outputs": [],
   "source": [
    "# LSTM based model and train test split\n",
    "vocabulary_size = len(tokenizer.word_counts)"
   ]
  },
  {
   "cell_type": "code",
   "execution_count": 34,
   "id": "6b6ee3fb",
   "metadata": {},
   "outputs": [],
   "source": [
    "from keras.utils import to_categorical"
   ]
  },
  {
   "cell_type": "code",
   "execution_count": 35,
   "id": "cee9c588",
   "metadata": {},
   "outputs": [],
   "source": [
    "X = sequences[:,:-1]\n",
    "y = sequences[:,-1]"
   ]
  },
  {
   "cell_type": "code",
   "execution_count": 36,
   "id": "810c689d",
   "metadata": {},
   "outputs": [],
   "source": [
    "y = to_categorical(y,num_classes=vocabulary_size + 1,)"
   ]
  },
  {
   "cell_type": "code",
   "execution_count": 37,
   "id": "e8493e29",
   "metadata": {},
   "outputs": [],
   "source": [
    "seq_len = X.shape[1]"
   ]
  },
  {
   "cell_type": "code",
   "execution_count": 38,
   "id": "898fc80e",
   "metadata": {},
   "outputs": [
    {
     "data": {
      "text/plain": [
       "(11312, 25)"
      ]
     },
     "execution_count": 38,
     "metadata": {},
     "output_type": "execute_result"
    }
   ],
   "source": [
    "X.shape"
   ]
  },
  {
   "cell_type": "code",
   "execution_count": 39,
   "id": "8607afa3",
   "metadata": {},
   "outputs": [],
   "source": [
    "from keras.models import Sequential\n",
    "from keras.layers import Dense,LSTM,Embedding    # Lstm to handle sequences , Embedding layer to handle Vocabulary"
   ]
  },
  {
   "cell_type": "code",
   "execution_count": 40,
   "id": "a6143a31",
   "metadata": {},
   "outputs": [],
   "source": [
    "def create_model(vocabulary_size, seq_len):\n",
    "    model = Sequential()\n",
    "    model.add(Embedding(vocabulary_size, 25, input_length=seq_len))\n",
    "    model.add(LSTM(150, return_sequences=True))\n",
    "    model.add(LSTM(150))\n",
    "    model.add(Dense(150, activation='relu'))\n",
    "\n",
    "    model.add(Dense(vocabulary_size, activation='softmax'))\n",
    "    \n",
    "    model.compile(loss='categorical_crossentropy', optimizer='adam', metrics=['accuracy'])\n",
    "   \n",
    "    model.summary()\n",
    "    \n",
    "    return model"
   ]
  },
  {
   "cell_type": "code",
   "execution_count": 41,
   "id": "3b0deb92",
   "metadata": {},
   "outputs": [
    {
     "name": "stdout",
     "output_type": "stream",
     "text": [
      "Model: \"sequential\"\n",
      "_________________________________________________________________\n",
      " Layer (type)                Output Shape              Param #   \n",
      "=================================================================\n",
      " embedding (Embedding)       (None, 25, 25)            67975     \n",
      "                                                                 \n",
      " lstm (LSTM)                 (None, 25, 150)           105600    \n",
      "                                                                 \n",
      " lstm_1 (LSTM)               (None, 150)               180600    \n",
      "                                                                 \n",
      " dense (Dense)               (None, 150)               22650     \n",
      "                                                                 \n",
      " dense_1 (Dense)             (None, 2719)              410569    \n",
      "                                                                 \n",
      "=================================================================\n",
      "Total params: 787,394\n",
      "Trainable params: 787,394\n",
      "Non-trainable params: 0\n",
      "_________________________________________________________________\n"
     ]
    }
   ],
   "source": [
    "model = create_model(vocabulary_size+1, seq_len)"
   ]
  },
  {
   "cell_type": "code",
   "execution_count": 42,
   "id": "edb8e88b",
   "metadata": {},
   "outputs": [],
   "source": [
    "from pickle import dump,load"
   ]
  },
  {
   "cell_type": "code",
   "execution_count": null,
   "id": "0df09bd4",
   "metadata": {},
   "outputs": [
    {
     "name": "stdout",
     "output_type": "stream",
     "text": [
      "Epoch 1/300\n",
      "89/89 [==============================] - 31s 263ms/step - loss: 6.8476 - accuracy: 0.0455\n",
      "Epoch 2/300\n",
      "89/89 [==============================] - 20s 228ms/step - loss: 6.3871 - accuracy: 0.0529\n",
      "Epoch 3/300\n",
      "89/89 [==============================] - 20s 230ms/step - loss: 6.3545 - accuracy: 0.0529\n",
      "Epoch 4/300\n",
      "89/89 [==============================] - 23s 261ms/step - loss: 6.2353 - accuracy: 0.0526\n",
      "Epoch 5/300\n",
      "89/89 [==============================] - 25s 275ms/step - loss: 6.1309 - accuracy: 0.0529\n",
      "Epoch 6/300\n",
      "89/89 [==============================] - 18s 204ms/step - loss: 6.0512 - accuracy: 0.0596\n",
      "Epoch 7/300\n",
      "89/89 [==============================] - 18s 198ms/step - loss: 5.9132 - accuracy: 0.0655\n",
      "Epoch 8/300\n",
      "89/89 [==============================] - 18s 197ms/step - loss: 5.8214 - accuracy: 0.0682\n",
      "Epoch 9/300\n",
      "89/89 [==============================] - 17s 196ms/step - loss: 5.7353 - accuracy: 0.0709\n",
      "Epoch 10/300\n",
      "89/89 [==============================] - 18s 199ms/step - loss: 5.6517 - accuracy: 0.0743\n",
      "Epoch 11/300\n",
      "89/89 [==============================] - 17s 195ms/step - loss: 5.5808 - accuracy: 0.0763\n",
      "Epoch 12/300\n",
      "89/89 [==============================] - 17s 196ms/step - loss: 5.5154 - accuracy: 0.0796\n",
      "Epoch 13/300\n",
      "89/89 [==============================] - 17s 196ms/step - loss: 5.4489 - accuracy: 0.0795\n",
      "Epoch 14/300\n",
      "89/89 [==============================] - 18s 198ms/step - loss: 5.3917 - accuracy: 0.0849\n",
      "Epoch 15/300\n",
      "89/89 [==============================] - 18s 197ms/step - loss: 5.3359 - accuracy: 0.0855\n",
      "Epoch 16/300\n",
      "89/89 [==============================] - 17s 195ms/step - loss: 5.2820 - accuracy: 0.0864\n",
      "Epoch 17/300\n",
      "89/89 [==============================] - 18s 200ms/step - loss: 5.2329 - accuracy: 0.0860\n",
      "Epoch 18/300\n",
      "89/89 [==============================] - 18s 199ms/step - loss: 5.1819 - accuracy: 0.0901\n",
      "Epoch 19/300\n",
      "89/89 [==============================] - 18s 198ms/step - loss: 5.1315 - accuracy: 0.0903\n",
      "Epoch 20/300\n",
      "89/89 [==============================] - 18s 197ms/step - loss: 5.0835 - accuracy: 0.0910\n",
      "Epoch 21/300\n",
      "89/89 [==============================] - 18s 197ms/step - loss: 5.0327 - accuracy: 0.0923\n",
      "Epoch 22/300\n",
      "89/89 [==============================] - 18s 200ms/step - loss: 4.9833 - accuracy: 0.0943\n",
      "Epoch 23/300\n",
      "89/89 [==============================] - 18s 197ms/step - loss: 4.9372 - accuracy: 0.0953\n",
      "Epoch 24/300\n",
      "89/89 [==============================] - 18s 199ms/step - loss: 4.8893 - accuracy: 0.0957\n",
      "Epoch 25/300\n",
      "89/89 [==============================] - 19s 210ms/step - loss: 4.8389 - accuracy: 0.0957\n",
      "Epoch 26/300\n",
      "89/89 [==============================] - 18s 198ms/step - loss: 4.8002 - accuracy: 0.1009\n",
      "Epoch 27/300\n",
      "89/89 [==============================] - 20s 228ms/step - loss: 4.7522 - accuracy: 0.1044\n",
      "Epoch 28/300\n",
      "89/89 [==============================] - 21s 237ms/step - loss: 4.7041 - accuracy: 0.1019\n",
      "Epoch 29/300\n",
      "89/89 [==============================] - 20s 223ms/step - loss: 4.6632 - accuracy: 0.1023\n",
      "Epoch 30/300\n",
      "89/89 [==============================] - 23s 256ms/step - loss: 4.6144 - accuracy: 0.1068\n",
      "Epoch 31/300\n",
      "89/89 [==============================] - 21s 233ms/step - loss: 4.5676 - accuracy: 0.1089\n",
      "Epoch 32/300\n",
      "89/89 [==============================] - 20s 220ms/step - loss: 4.5283 - accuracy: 0.1083\n",
      "Epoch 33/300\n",
      "89/89 [==============================] - 18s 207ms/step - loss: 4.4834 - accuracy: 0.1114\n",
      "Epoch 34/300\n",
      "89/89 [==============================] - 18s 203ms/step - loss: 4.4390 - accuracy: 0.1109\n",
      "Epoch 35/300\n",
      "89/89 [==============================] - 18s 200ms/step - loss: 4.3963 - accuracy: 0.1150\n",
      "Epoch 36/300\n",
      "89/89 [==============================] - 18s 200ms/step - loss: 4.3467 - accuracy: 0.1164\n",
      "Epoch 37/300\n",
      "89/89 [==============================] - 18s 199ms/step - loss: 4.3109 - accuracy: 0.1228\n",
      "Epoch 38/300\n",
      "89/89 [==============================] - 18s 200ms/step - loss: 4.2680 - accuracy: 0.1196\n",
      "Epoch 39/300\n",
      "89/89 [==============================] - 19s 218ms/step - loss: 4.2235 - accuracy: 0.1222\n",
      "Epoch 40/300\n",
      "89/89 [==============================] - 19s 219ms/step - loss: 4.1875 - accuracy: 0.1249\n",
      "Epoch 41/300\n",
      "89/89 [==============================] - 19s 208ms/step - loss: 4.1499 - accuracy: 0.1267\n",
      "Epoch 42/300\n",
      "89/89 [==============================] - 19s 208ms/step - loss: 4.1120 - accuracy: 0.1292\n",
      "Epoch 43/300\n",
      "89/89 [==============================] - 18s 199ms/step - loss: 4.0720 - accuracy: 0.1305\n",
      "Epoch 44/300\n",
      "89/89 [==============================] - 17s 191ms/step - loss: 4.0303 - accuracy: 0.1345\n",
      "Epoch 45/300\n",
      "89/89 [==============================] - 17s 188ms/step - loss: 3.9930 - accuracy: 0.1368\n",
      "Epoch 46/300\n",
      "89/89 [==============================] - 17s 189ms/step - loss: 3.9566 - accuracy: 0.1440\n",
      "Epoch 47/300\n",
      "89/89 [==============================] - 17s 189ms/step - loss: 3.9152 - accuracy: 0.1483\n",
      "Epoch 48/300\n",
      "89/89 [==============================] - 17s 188ms/step - loss: 3.8821 - accuracy: 0.1465\n",
      "Epoch 49/300\n",
      "89/89 [==============================] - 17s 190ms/step - loss: 3.8455 - accuracy: 0.1536\n",
      "Epoch 50/300\n",
      "89/89 [==============================] - 18s 197ms/step - loss: 3.8097 - accuracy: 0.1548\n",
      "Epoch 51/300\n",
      "89/89 [==============================] - 17s 191ms/step - loss: 3.7797 - accuracy: 0.1583\n",
      "Epoch 52/300\n",
      "89/89 [==============================] - 17s 189ms/step - loss: 3.7458 - accuracy: 0.1628\n",
      "Epoch 53/300\n",
      "89/89 [==============================] - 17s 189ms/step - loss: 3.7182 - accuracy: 0.1648\n",
      "Epoch 54/300\n",
      "89/89 [==============================] - 17s 188ms/step - loss: 3.6815 - accuracy: 0.1688\n",
      "Epoch 55/300\n",
      "89/89 [==============================] - 17s 189ms/step - loss: 3.6486 - accuracy: 0.1719\n",
      "Epoch 56/300\n",
      "89/89 [==============================] - 17s 189ms/step - loss: 3.6125 - accuracy: 0.1828\n",
      "Epoch 57/300\n",
      "89/89 [==============================] - 17s 188ms/step - loss: 3.5840 - accuracy: 0.1810\n",
      "Epoch 58/300\n",
      "89/89 [==============================] - 17s 189ms/step - loss: 3.5535 - accuracy: 0.1849\n",
      "Epoch 59/300\n",
      "89/89 [==============================] - 17s 189ms/step - loss: 3.5264 - accuracy: 0.1896\n",
      "Epoch 60/300\n",
      "89/89 [==============================] - 17s 191ms/step - loss: 3.4868 - accuracy: 0.1943\n",
      "Epoch 61/300\n",
      "89/89 [==============================] - 17s 191ms/step - loss: 3.4587 - accuracy: 0.1976\n",
      "Epoch 62/300\n",
      "89/89 [==============================] - 17s 189ms/step - loss: 3.4239 - accuracy: 0.2055\n",
      "Epoch 63/300\n",
      "89/89 [==============================] - 17s 188ms/step - loss: 3.3899 - accuracy: 0.2144\n",
      "Epoch 64/300\n",
      "89/89 [==============================] - 17s 195ms/step - loss: 3.3625 - accuracy: 0.2140\n",
      "Epoch 65/300\n",
      "89/89 [==============================] - 17s 191ms/step - loss: 3.3350 - accuracy: 0.2197\n",
      "Epoch 66/300\n",
      "89/89 [==============================] - 17s 192ms/step - loss: 3.3136 - accuracy: 0.2208\n",
      "Epoch 67/300\n",
      "89/89 [==============================] - 17s 191ms/step - loss: 3.2855 - accuracy: 0.2271\n",
      "Epoch 68/300\n",
      "89/89 [==============================] - 17s 189ms/step - loss: 3.2534 - accuracy: 0.2331\n",
      "Epoch 69/300\n",
      "89/89 [==============================] - 17s 189ms/step - loss: 3.2237 - accuracy: 0.2409\n",
      "Epoch 70/300\n",
      "89/89 [==============================] - 17s 189ms/step - loss: 3.1975 - accuracy: 0.2390\n",
      "Epoch 71/300\n",
      "89/89 [==============================] - 17s 189ms/step - loss: 3.1727 - accuracy: 0.2460\n",
      "Epoch 72/300\n",
      "89/89 [==============================] - 17s 189ms/step - loss: 3.1525 - accuracy: 0.2484\n",
      "Epoch 73/300\n",
      "89/89 [==============================] - 17s 188ms/step - loss: 3.1228 - accuracy: 0.2535\n",
      "Epoch 74/300\n",
      "89/89 [==============================] - 17s 190ms/step - loss: 3.0924 - accuracy: 0.2600\n",
      "Epoch 75/300\n",
      "89/89 [==============================] - 17s 189ms/step - loss: 3.0674 - accuracy: 0.2680\n",
      "Epoch 76/300\n",
      "89/89 [==============================] - 17s 192ms/step - loss: 3.0452 - accuracy: 0.2725\n",
      "Epoch 77/300\n",
      "89/89 [==============================] - 17s 190ms/step - loss: 3.0160 - accuracy: 0.2770\n",
      "Epoch 78/300\n",
      "89/89 [==============================] - 17s 191ms/step - loss: 2.9949 - accuracy: 0.2784\n",
      "Epoch 79/300\n",
      "89/89 [==============================] - 17s 189ms/step - loss: 2.9775 - accuracy: 0.2835\n",
      "Epoch 80/300\n"
     ]
    },
    {
     "name": "stdout",
     "output_type": "stream",
     "text": [
      "89/89 [==============================] - 17s 186ms/step - loss: 2.9512 - accuracy: 0.2870\n",
      "Epoch 81/300\n",
      "89/89 [==============================] - 16s 185ms/step - loss: 2.9276 - accuracy: 0.2934\n",
      "Epoch 82/300\n",
      "89/89 [==============================] - 16s 185ms/step - loss: 2.9081 - accuracy: 0.2979\n",
      "Epoch 83/300\n",
      "89/89 [==============================] - 17s 188ms/step - loss: 2.8848 - accuracy: 0.2995\n",
      "Epoch 84/300\n",
      "89/89 [==============================] - 17s 186ms/step - loss: 2.8678 - accuracy: 0.2984\n",
      "Epoch 85/300\n",
      "89/89 [==============================] - 17s 187ms/step - loss: 2.8397 - accuracy: 0.3127\n",
      "Epoch 86/300\n",
      "89/89 [==============================] - 17s 196ms/step - loss: 2.8293 - accuracy: 0.3120\n",
      "Epoch 87/300\n",
      "89/89 [==============================] - 17s 192ms/step - loss: 2.8020 - accuracy: 0.3156\n",
      "Epoch 88/300\n",
      "89/89 [==============================] - 17s 194ms/step - loss: 2.7724 - accuracy: 0.3248\n",
      "Epoch 89/300\n",
      "89/89 [==============================] - 17s 196ms/step - loss: 2.7504 - accuracy: 0.3274\n",
      "Epoch 90/300\n",
      "89/89 [==============================] - 17s 187ms/step - loss: 2.7401 - accuracy: 0.3295\n",
      "Epoch 91/300\n",
      "89/89 [==============================] - 17s 195ms/step - loss: 2.7192 - accuracy: 0.3333\n",
      "Epoch 92/300\n",
      "89/89 [==============================] - 17s 187ms/step - loss: 2.6906 - accuracy: 0.3417\n",
      "Epoch 93/300\n",
      "89/89 [==============================] - 17s 191ms/step - loss: 2.6725 - accuracy: 0.3464\n",
      "Epoch 94/300\n",
      "89/89 [==============================] - 17s 193ms/step - loss: 2.6533 - accuracy: 0.3454\n",
      "Epoch 95/300\n",
      "89/89 [==============================] - 17s 188ms/step - loss: 2.6329 - accuracy: 0.3488\n",
      "Epoch 96/300\n",
      "89/89 [==============================] - 17s 196ms/step - loss: 2.6173 - accuracy: 0.3545\n",
      "Epoch 97/300\n",
      "89/89 [==============================] - 18s 199ms/step - loss: 2.6036 - accuracy: 0.3558\n",
      "Epoch 98/300\n",
      "89/89 [==============================] - 17s 193ms/step - loss: 2.5868 - accuracy: 0.3592\n",
      "Epoch 99/300\n",
      "89/89 [==============================] - 17s 192ms/step - loss: 2.5571 - accuracy: 0.3650\n",
      "Epoch 100/300\n",
      "89/89 [==============================] - 17s 193ms/step - loss: 2.5499 - accuracy: 0.3686\n",
      "Epoch 101/300\n",
      "89/89 [==============================] - 17s 193ms/step - loss: 2.5251 - accuracy: 0.3741\n",
      "Epoch 102/300\n",
      "89/89 [==============================] - 17s 192ms/step - loss: 2.5013 - accuracy: 0.3780\n",
      "Epoch 103/300\n",
      "89/89 [==============================] - 17s 191ms/step - loss: 2.4891 - accuracy: 0.3849\n",
      "Epoch 104/300\n",
      "89/89 [==============================] - 17s 195ms/step - loss: 2.4627 - accuracy: 0.3845\n",
      "Epoch 105/300\n",
      "89/89 [==============================] - 17s 194ms/step - loss: 2.4481 - accuracy: 0.3932\n",
      "Epoch 106/300\n",
      "89/89 [==============================] - 18s 201ms/step - loss: 2.4359 - accuracy: 0.3921\n",
      "Epoch 107/300\n",
      "89/89 [==============================] - 20s 225ms/step - loss: 2.4135 - accuracy: 0.3969\n",
      "Epoch 108/300\n",
      "89/89 [==============================] - 18s 197ms/step - loss: 2.3961 - accuracy: 0.4029\n",
      "Epoch 109/300\n",
      "89/89 [==============================] - 17s 191ms/step - loss: 2.3849 - accuracy: 0.4051\n",
      "Epoch 110/300\n",
      "89/89 [==============================] - 17s 191ms/step - loss: 2.3765 - accuracy: 0.4012\n",
      "Epoch 111/300\n",
      "89/89 [==============================] - 17s 192ms/step - loss: 2.3536 - accuracy: 0.4124\n",
      "Epoch 112/300\n",
      "89/89 [==============================] - 17s 191ms/step - loss: 2.3351 - accuracy: 0.4159\n",
      "Epoch 113/300\n",
      "89/89 [==============================] - 17s 195ms/step - loss: 2.3154 - accuracy: 0.4164\n",
      "Epoch 114/300\n",
      "89/89 [==============================] - 17s 193ms/step - loss: 2.3064 - accuracy: 0.4184\n",
      "Epoch 115/300\n",
      "89/89 [==============================] - 17s 192ms/step - loss: 2.2876 - accuracy: 0.4246\n",
      "Epoch 116/300\n",
      "89/89 [==============================] - 17s 190ms/step - loss: 2.2736 - accuracy: 0.4297\n",
      "Epoch 117/300\n",
      "89/89 [==============================] - 17s 192ms/step - loss: 2.2519 - accuracy: 0.4326\n",
      "Epoch 118/300\n",
      "89/89 [==============================] - 17s 193ms/step - loss: 2.2393 - accuracy: 0.4332\n",
      "Epoch 119/300\n",
      "89/89 [==============================] - 17s 191ms/step - loss: 2.2337 - accuracy: 0.4353\n",
      "Epoch 120/300\n",
      "89/89 [==============================] - 17s 190ms/step - loss: 2.2128 - accuracy: 0.4392\n",
      "Epoch 121/300\n",
      "89/89 [==============================] - 17s 192ms/step - loss: 2.2029 - accuracy: 0.4440\n",
      "Epoch 122/300\n",
      "89/89 [==============================] - 17s 191ms/step - loss: 2.1770 - accuracy: 0.4486\n",
      "Epoch 123/300\n",
      "89/89 [==============================] - 18s 198ms/step - loss: 2.1656 - accuracy: 0.4527\n",
      "Epoch 124/300\n",
      "89/89 [==============================] - 17s 195ms/step - loss: 2.1518 - accuracy: 0.4530\n",
      "Epoch 125/300\n",
      "89/89 [==============================] - 17s 194ms/step - loss: 2.1496 - accuracy: 0.4548\n",
      "Epoch 126/300\n",
      "89/89 [==============================] - 17s 193ms/step - loss: 2.1302 - accuracy: 0.4572\n",
      "Epoch 127/300\n",
      "89/89 [==============================] - 17s 192ms/step - loss: 2.1157 - accuracy: 0.4582\n",
      "Epoch 128/300\n",
      "89/89 [==============================] - 17s 192ms/step - loss: 2.1009 - accuracy: 0.4623\n",
      "Epoch 129/300\n",
      "89/89 [==============================] - 17s 195ms/step - loss: 2.0830 - accuracy: 0.4716\n",
      "Epoch 130/300\n",
      "89/89 [==============================] - 17s 196ms/step - loss: 2.0705 - accuracy: 0.4731\n",
      "Epoch 131/300\n",
      "89/89 [==============================] - 17s 193ms/step - loss: 2.0531 - accuracy: 0.4760\n",
      "Epoch 132/300\n",
      "89/89 [==============================] - 17s 192ms/step - loss: 2.0501 - accuracy: 0.4798\n",
      "Epoch 133/300\n",
      "89/89 [==============================] - 17s 192ms/step - loss: 2.0320 - accuracy: 0.4812\n",
      "Epoch 134/300\n",
      "89/89 [==============================] - 17s 192ms/step - loss: 2.0250 - accuracy: 0.4807\n",
      "Epoch 135/300\n",
      "89/89 [==============================] - 18s 206ms/step - loss: 2.0062 - accuracy: 0.4876\n",
      "Epoch 136/300\n",
      "89/89 [==============================] - 17s 194ms/step - loss: 1.9934 - accuracy: 0.4892\n",
      "Epoch 137/300\n",
      "89/89 [==============================] - 17s 196ms/step - loss: 1.9829 - accuracy: 0.4911\n",
      "Epoch 138/300\n",
      "89/89 [==============================] - 17s 195ms/step - loss: 1.9777 - accuracy: 0.4950\n",
      "Epoch 139/300\n",
      "89/89 [==============================] - 18s 198ms/step - loss: 1.9597 - accuracy: 0.4964\n",
      "Epoch 140/300\n",
      "89/89 [==============================] - 17s 194ms/step - loss: 1.9395 - accuracy: 0.5026\n",
      "Epoch 141/300\n",
      "89/89 [==============================] - 17s 195ms/step - loss: 1.9270 - accuracy: 0.5051\n",
      "Epoch 142/300\n",
      "89/89 [==============================] - 17s 195ms/step - loss: 1.9215 - accuracy: 0.5052\n",
      "Epoch 143/300\n",
      "89/89 [==============================] - 17s 192ms/step - loss: 1.9038 - accuracy: 0.5091\n",
      "Epoch 144/300\n",
      "89/89 [==============================] - 18s 199ms/step - loss: 1.8964 - accuracy: 0.5112\n",
      "Epoch 145/300\n",
      "89/89 [==============================] - 17s 194ms/step - loss: 1.8856 - accuracy: 0.5134\n",
      "Epoch 146/300\n",
      "89/89 [==============================] - 17s 194ms/step - loss: 1.8854 - accuracy: 0.5127\n",
      "Epoch 147/300\n",
      "89/89 [==============================] - 17s 193ms/step - loss: 1.8677 - accuracy: 0.5184\n",
      "Epoch 148/300\n",
      "89/89 [==============================] - 18s 200ms/step - loss: 1.8570 - accuracy: 0.5174\n",
      "Epoch 149/300\n",
      "89/89 [==============================] - 18s 206ms/step - loss: 1.8315 - accuracy: 0.5257\n",
      "Epoch 150/300\n",
      "89/89 [==============================] - 18s 205ms/step - loss: 1.8200 - accuracy: 0.5315\n",
      "Epoch 151/300\n",
      "89/89 [==============================] - 18s 198ms/step - loss: 1.8163 - accuracy: 0.5289\n",
      "Epoch 152/300\n",
      "89/89 [==============================] - 18s 201ms/step - loss: 1.8044 - accuracy: 0.5330\n",
      "Epoch 153/300\n",
      "89/89 [==============================] - 17s 196ms/step - loss: 1.7934 - accuracy: 0.5351\n",
      "Epoch 154/300\n",
      "89/89 [==============================] - 17s 195ms/step - loss: 1.7968 - accuracy: 0.5331\n",
      "Epoch 155/300\n",
      "89/89 [==============================] - 18s 198ms/step - loss: 1.7834 - accuracy: 0.5340\n",
      "Epoch 156/300\n",
      "89/89 [==============================] - 18s 199ms/step - loss: 1.7597 - accuracy: 0.5454\n",
      "Epoch 157/300\n",
      "89/89 [==============================] - 17s 193ms/step - loss: 1.7507 - accuracy: 0.5408\n",
      "Epoch 158/300\n",
      "89/89 [==============================] - 17s 191ms/step - loss: 1.7350 - accuracy: 0.5495\n",
      "Epoch 159/300\n"
     ]
    },
    {
     "name": "stdout",
     "output_type": "stream",
     "text": [
      "89/89 [==============================] - 18s 197ms/step - loss: 1.7208 - accuracy: 0.5519\n",
      "Epoch 160/300\n",
      "89/89 [==============================] - 18s 197ms/step - loss: 1.7207 - accuracy: 0.5525\n",
      "Epoch 161/300\n",
      "89/89 [==============================] - 18s 199ms/step - loss: 1.7097 - accuracy: 0.5514\n",
      "Epoch 162/300\n",
      "89/89 [==============================] - 17s 196ms/step - loss: 1.6923 - accuracy: 0.5609\n",
      "Epoch 163/300\n",
      "89/89 [==============================] - 18s 201ms/step - loss: 1.6763 - accuracy: 0.5673\n",
      "Epoch 164/300\n",
      "89/89 [==============================] - 17s 195ms/step - loss: 1.6622 - accuracy: 0.5663\n",
      "Epoch 165/300\n",
      "89/89 [==============================] - 18s 202ms/step - loss: 1.6576 - accuracy: 0.5667\n",
      "Epoch 166/300\n",
      "89/89 [==============================] - 18s 199ms/step - loss: 1.6534 - accuracy: 0.5687\n",
      "Epoch 167/300\n",
      "89/89 [==============================] - 17s 195ms/step - loss: 1.9203 - accuracy: 0.5245\n",
      "Epoch 168/300\n",
      "89/89 [==============================] - 17s 194ms/step - loss: 4.0690 - accuracy: 0.2710\n",
      "Epoch 169/300\n",
      "89/89 [==============================] - 18s 199ms/step - loss: 4.6172 - accuracy: 0.1063\n",
      "Epoch 170/300\n",
      "89/89 [==============================] - 18s 197ms/step - loss: 3.6606 - accuracy: 0.1735\n",
      "Epoch 171/300\n",
      "89/89 [==============================] - 17s 194ms/step - loss: 3.2065 - accuracy: 0.2405\n",
      "Epoch 172/300\n",
      "89/89 [==============================] - 17s 197ms/step - loss: 2.9698 - accuracy: 0.2793\n",
      "Epoch 173/300\n",
      "89/89 [==============================] - 18s 202ms/step - loss: 2.7856 - accuracy: 0.3175\n",
      "Epoch 174/300\n",
      "89/89 [==============================] - 18s 201ms/step - loss: 2.6499 - accuracy: 0.3480\n",
      "Epoch 175/300\n",
      "89/89 [==============================] - 18s 199ms/step - loss: 2.5474 - accuracy: 0.3738\n",
      "Epoch 176/300\n",
      "89/89 [==============================] - 18s 199ms/step - loss: 2.4728 - accuracy: 0.3872\n",
      "Epoch 177/300\n",
      "89/89 [==============================] - 18s 203ms/step - loss: 2.3949 - accuracy: 0.4072\n",
      "Epoch 178/300\n",
      "89/89 [==============================] - 19s 211ms/step - loss: 2.3349 - accuracy: 0.4167\n",
      "Epoch 179/300\n",
      "89/89 [==============================] - 17s 195ms/step - loss: 2.2787 - accuracy: 0.4303\n",
      "Epoch 180/300\n",
      "89/89 [==============================] - 17s 192ms/step - loss: 2.2238 - accuracy: 0.4414\n",
      "Epoch 181/300\n",
      "89/89 [==============================] - 17s 193ms/step - loss: 2.1665 - accuracy: 0.4533\n",
      "Epoch 182/300\n",
      "89/89 [==============================] - 18s 197ms/step - loss: 2.1225 - accuracy: 0.4637\n",
      "Epoch 183/300\n",
      "89/89 [==============================] - 17s 191ms/step - loss: 2.1030 - accuracy: 0.4628\n",
      "Epoch 184/300\n",
      "89/89 [==============================] - 17s 193ms/step - loss: 2.0449 - accuracy: 0.4779\n",
      "Epoch 185/300\n",
      "89/89 [==============================] - 17s 192ms/step - loss: 1.9935 - accuracy: 0.4926\n",
      "Epoch 186/300\n",
      "89/89 [==============================] - 17s 193ms/step - loss: 1.9561 - accuracy: 0.5039\n",
      "Epoch 187/300\n",
      "89/89 [==============================] - 17s 193ms/step - loss: 1.9188 - accuracy: 0.5131\n",
      "Epoch 188/300\n",
      "89/89 [==============================] - 18s 200ms/step - loss: 1.8855 - accuracy: 0.5185\n",
      "Epoch 189/300\n",
      "89/89 [==============================] - 17s 196ms/step - loss: 1.8455 - accuracy: 0.5274\n",
      "Epoch 190/300\n",
      "89/89 [==============================] - 17s 195ms/step - loss: 1.8088 - accuracy: 0.5348\n",
      "Epoch 191/300\n",
      "89/89 [==============================] - 17s 194ms/step - loss: 1.7626 - accuracy: 0.5487\n",
      "Epoch 192/300\n",
      "89/89 [==============================] - 18s 200ms/step - loss: 1.7446 - accuracy: 0.5522\n",
      "Epoch 193/300\n",
      "82/89 [==========================>...] - ETA: 1s - loss: 1.6925 - accuracy: 0.5608"
     ]
    }
   ],
   "source": [
    "model.fit(X, y, batch_size=128, epochs=300,verbose=1)"
   ]
  },
  {
   "cell_type": "code",
   "execution_count": null,
   "id": "0aaaad1f",
   "metadata": {},
   "outputs": [],
   "source": []
  }
 ],
 "metadata": {
  "kernelspec": {
   "display_name": "Python 3 (ipykernel)",
   "language": "python",
   "name": "python3"
  },
  "language_info": {
   "codemirror_mode": {
    "name": "ipython",
    "version": 3
   },
   "file_extension": ".py",
   "mimetype": "text/x-python",
   "name": "python",
   "nbconvert_exporter": "python",
   "pygments_lexer": "ipython3",
   "version": "3.7.16"
  }
 },
 "nbformat": 4,
 "nbformat_minor": 5
}
